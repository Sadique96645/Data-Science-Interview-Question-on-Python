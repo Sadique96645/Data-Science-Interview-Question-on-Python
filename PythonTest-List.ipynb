{
 "cells": [
  {
   "cell_type": "code",
   "execution_count": 3,
   "id": "f806fe7b-2313-4037-94a3-c76fa6dffb58",
   "metadata": {},
   "outputs": [
    {
     "data": {
      "text/plain": [
       "17"
      ]
     },
     "execution_count": 3,
     "metadata": {},
     "output_type": "execute_result"
    }
   ],
   "source": [
    "# 1 Question: Given a list nums, find the sum of all elements in the list.\n",
    "def list_sum(input_list):\n",
    "    return sum(input_list)\n",
    "\n",
    "list_sum([2,3,5,1,6])"
   ]
  },
  {
   "cell_type": "code",
   "execution_count": 5,
   "id": "dcad5c82-d6eb-460f-a319-513876b3b211",
   "metadata": {},
   "outputs": [
    {
     "name": "stdout",
     "output_type": "stream",
     "text": [
      "17\n"
     ]
    }
   ],
   "source": [
    "input_list = [2,3,5,1,6]\n",
    "temp_val = 0\n",
    "for i in input_list:\n",
    "    temp_val+=i\n",
    "print(temp_val)"
   ]
  },
  {
   "cell_type": "code",
   "execution_count": 7,
   "id": "8f440cee-992b-4377-bce4-2ef817160263",
   "metadata": {},
   "outputs": [
    {
     "data": {
      "text/plain": [
       "6"
      ]
     },
     "execution_count": 7,
     "metadata": {},
     "output_type": "execute_result"
    }
   ],
   "source": [
    "# 2 Question: Write a function to find the maximum element in a list.\n",
    "def max_ele(input_list):\n",
    "    return max(input_list)\n",
    "\n",
    "max_ele(input_list)"
   ]
  },
  {
   "cell_type": "code",
   "execution_count": 13,
   "id": "96b989cd-fb68-4494-9a1b-ea18247c58cb",
   "metadata": {},
   "outputs": [
    {
     "name": "stdout",
     "output_type": "stream",
     "text": [
      "6\n"
     ]
    }
   ],
   "source": [
    "l = sorted(input_list)\n",
    "print(l[-1])"
   ]
  },
  {
   "cell_type": "code",
   "execution_count": 27,
   "id": "e9b74154-4ac4-4fc7-8672-4bf6f874cfd5",
   "metadata": {},
   "outputs": [
    {
     "data": {
      "text/plain": [
       "[1, 2, 3, 6, 8]"
      ]
     },
     "execution_count": 27,
     "metadata": {},
     "output_type": "execute_result"
    }
   ],
   "source": [
    "# 3 Question: Remove all duplicates from a list.\n",
    "dup_list = [1,8,3,1,8,2,6,3]\n",
    "def unique_list(dup_list):\n",
    "    return list(set(dup_list))\n",
    "unique_list(dup_list)"
   ]
  },
  {
   "cell_type": "code",
   "execution_count": 29,
   "id": "d611930c-f385-472f-916c-669833cc5a49",
   "metadata": {},
   "outputs": [
    {
     "name": "stdout",
     "output_type": "stream",
     "text": [
      "[1, 8, 3, 1, 8, 2, 6, 3]\n"
     ]
    },
    {
     "data": {
      "text/plain": [
       "[1, 8, 3, 2, 6]"
      ]
     },
     "execution_count": 29,
     "metadata": {},
     "output_type": "execute_result"
    }
   ],
   "source": [
    "unique_lst = []\n",
    "print(dup_list)\n",
    "for i in dup_list:\n",
    "    if i not in unique_lst:\n",
    "        unique_lst.append(i)\n",
    "    #dup_list.remove(i)\n",
    "unique_lst"
   ]
  },
  {
   "cell_type": "code",
   "execution_count": 38,
   "id": "2e181f21-1117-40fc-a9f6-8f70dc84cd60",
   "metadata": {},
   "outputs": [
    {
     "data": {
      "text/plain": [
       "[6, 2, 3, 8, 1]"
      ]
     },
     "execution_count": 38,
     "metadata": {},
     "output_type": "execute_result"
    }
   ],
   "source": [
    "# 4 Question: Reverse a list in-place (modify the original list).\n",
    "unique_lst = [1, 8, 3, 2, 6]\n",
    "def reverse_lst(unique_lst):\n",
    "    return unique_lst[::-1]\n",
    "\n",
    "reverse_lst(unique_lst)"
   ]
  },
  {
   "cell_type": "code",
   "execution_count": 58,
   "id": "1b3e78c0-113e-4d58-81b9-bb207aa4bede",
   "metadata": {},
   "outputs": [
    {
     "data": {
      "text/plain": [
       "[6, 2, 3, 8, 1]"
      ]
     },
     "execution_count": 58,
     "metadata": {},
     "output_type": "execute_result"
    }
   ],
   "source": [
    "unique_lst = [1, 8, 3, 2, 6]\n",
    "def reverse_lst(unique_lst):\n",
    "    unique_lst.reverse()\n",
    "    return  unique_lst\n",
    "reverse_lst(unique_lst)"
   ]
  },
  {
   "cell_type": "code",
   "execution_count": 54,
   "id": "82ace605-2c2b-4431-b021-20da04d0dbc6",
   "metadata": {},
   "outputs": [
    {
     "data": {
      "text/plain": [
       "[6, 2, 3, 8, 1]"
      ]
     },
     "execution_count": 54,
     "metadata": {},
     "output_type": "execute_result"
    }
   ],
   "source": [
    "unique_lst"
   ]
  },
  {
   "cell_type": "code",
   "execution_count": 60,
   "id": "5b17dde5-c548-4b1c-8deb-3207326dbd15",
   "metadata": {},
   "outputs": [
    {
     "data": {
      "text/plain": [
       "2"
      ]
     },
     "execution_count": 60,
     "metadata": {},
     "output_type": "execute_result"
    }
   ],
   "source": [
    "# 5 Question: Find the index of the first occurrence of an element in a list.\n",
    "def frst_index_elemnt(unique_lst,num):\n",
    "    return unique_lst.index(num)\n",
    "\n",
    "frst_index_elemnt(unique_lst,3)"
   ]
  },
  {
   "cell_type": "code",
   "execution_count": 70,
   "id": "cc65f452-61f4-48b5-9e66-4bbe13df004f",
   "metadata": {},
   "outputs": [
    {
     "name": "stdout",
     "output_type": "stream",
     "text": [
      "2\n"
     ]
    }
   ],
   "source": [
    "def frst_index_elemnt(unique_lst,num):\n",
    "    for index, value in enumerate(unique_lst):\n",
    "        if value == num:\n",
    "            print(index)\n",
    "\n",
    "frst_index_elemnt(unique_lst,3)"
   ]
  },
  {
   "cell_type": "code",
   "execution_count": 74,
   "id": "a34ef586-4510-4738-97c0-d6d1db43f7a2",
   "metadata": {},
   "outputs": [
    {
     "data": {
      "text/plain": [
       "[6, 2, 8]"
      ]
     },
     "execution_count": 74,
     "metadata": {},
     "output_type": "execute_result"
    }
   ],
   "source": [
    "# 6 Question: Create a new list containing only the even numbers from the original list.\n",
    "lst = []\n",
    "def even_lst(unique_lst):\n",
    "    for i in unique_lst:\n",
    "        if i%2==0:\n",
    "            lst.append(i)\n",
    "    return lst\n",
    "even_lst(unique_lst)"
   ]
  },
  {
   "cell_type": "code",
   "execution_count": 76,
   "id": "27a51e64-6971-466f-acc8-9921df04da55",
   "metadata": {},
   "outputs": [
    {
     "data": {
      "text/plain": [
       "[36, 4, 9, 64, 1]"
      ]
     },
     "execution_count": 76,
     "metadata": {},
     "output_type": "execute_result"
    }
   ],
   "source": [
    "# 7 Question: Create a new list with the squares of each element in the original list.\n",
    "\n",
    "def square_lst(unique_lst):\n",
    "    return [i**2 for i in unique_lst]\n",
    "square_lst(unique_lst)"
   ]
  },
  {
   "cell_type": "code",
   "execution_count": 78,
   "id": "a96e6551-15a5-42cb-9f64-9cdcb51c94ec",
   "metadata": {},
   "outputs": [
    {
     "data": {
      "text/plain": [
       "[1, 2, 3, 6, 8]"
      ]
     },
     "execution_count": 78,
     "metadata": {},
     "output_type": "execute_result"
    }
   ],
   "source": [
    "## 7 Question: Sort a list in ascending order.\n",
    "def sort_lst(unique_lst):\n",
    "    unique_lst.sort()\n",
    "    return unique_lst\n",
    "\n",
    "sort_lst(unique_lst)"
   ]
  },
  {
   "cell_type": "code",
   "execution_count": 84,
   "id": "f539bd34-4903-49d2-b6e6-3af7e465ce45",
   "metadata": {},
   "outputs": [
    {
     "name": "stdout",
     "output_type": "stream",
     "text": [
      "[1, 3, 4, 6, 8]\n"
     ]
    }
   ],
   "source": [
    "input_lst = [6,1,8,3,4]\n",
    "for i in range(len(input_lst)):\n",
    "    for j in range(i+1, len(input_lst)):\n",
    "        if input_lst[i] >= input_lst[j]:\n",
    "            input_lst[i],input_lst[j]= input_lst[j],input_lst[i]\n",
    "print(input_lst)"
   ]
  },
  {
   "cell_type": "code",
   "execution_count": 132,
   "id": "afe6e04d-33ac-468d-894b-fc43ec10b09b",
   "metadata": {},
   "outputs": [
    {
     "data": {
      "text/plain": [
       "[1, 3, 4, 6, 8]"
      ]
     },
     "execution_count": 132,
     "metadata": {},
     "output_type": "execute_result"
    }
   ],
   "source": [
    "input_lst = [6,1,8,3,4]\n",
    "sorted_list = []\n",
    "while len(input_lst)>0:\n",
    "    min_ele = min(input_lst)\n",
    "    sorted_list.append(min_ele)\n",
    "    input_lst.remove(min_ele)\n",
    "sorted_list"
   ]
  },
  {
   "cell_type": "code",
   "execution_count": 134,
   "id": "ec9702c7-31b1-49b8-ad10-b80d42c2201a",
   "metadata": {},
   "outputs": [
    {
     "data": {
      "text/plain": [
       "[]"
      ]
     },
     "execution_count": 134,
     "metadata": {},
     "output_type": "execute_result"
    }
   ],
   "source": [
    "input_lst"
   ]
  },
  {
   "cell_type": "code",
   "execution_count": 92,
   "id": "f6b3b31f-2451-4c8d-9b3b-faf90ba40e3a",
   "metadata": {},
   "outputs": [
    {
     "data": {
      "text/plain": [
       "True"
      ]
     },
     "execution_count": 92,
     "metadata": {},
     "output_type": "execute_result"
    }
   ],
   "source": [
    "# 8 Question: Check if all elements in the list are positive.\n",
    "input_list = [1, 3, 4, -6, 8]\n",
    "def check_postive(input_list):\n",
    "    return all(i>0 for i in input_lst)\n",
    "check_postive(input_list)"
   ]
  },
  {
   "cell_type": "code",
   "execution_count": 116,
   "id": "52035e19-1ad7-4e67-9d5e-737ad94aa259",
   "metadata": {},
   "outputs": [
    {
     "data": {
      "text/plain": [
       "False"
      ]
     },
     "execution_count": 116,
     "metadata": {},
     "output_type": "execute_result"
    }
   ],
   "source": [
    "input_list = [1, 3, 4, 6, 8]\n",
    "result  = []\n",
    "def check_postive(input_list):\n",
    "    for i in input_list:\n",
    "        if i < 0:\n",
    "            result.append(True)\n",
    "    if len(result)==0:\n",
    "            result.append(False)\n",
    "    return result[0]\n",
    "check_postive(input_list)"
   ]
  },
  {
   "cell_type": "code",
   "execution_count": 130,
   "id": "20613152-13e1-4897-b853-5f9776e421b4",
   "metadata": {},
   "outputs": [
    {
     "name": "stdout",
     "output_type": "stream",
     "text": [
      "[1, 6, 4, 9, 2]\n"
     ]
    },
    {
     "data": {
      "text/plain": [
       "6"
      ]
     },
     "execution_count": 130,
     "metadata": {},
     "output_type": "execute_result"
    }
   ],
   "source": [
    "#9 Question: Find the second-largest element in a list.\n",
    "l = [1, 6, 4, 9, 2]\n",
    "def return_scond_lrgst_elmnt(l):\n",
    "    l.sort()\n",
    "    return l[-2]\n",
    "    \n",
    "print(l)\n",
    "return_scond_lrgst_elmnt(l)"
   ]
  },
  {
   "cell_type": "code",
   "execution_count": 138,
   "id": "d43ea4ee-c10b-4537-96e8-d62a21dd593a",
   "metadata": {},
   "outputs": [
    {
     "data": {
      "text/plain": [
       "[1, 2, 4, 9]"
      ]
     },
     "execution_count": 138,
     "metadata": {},
     "output_type": "execute_result"
    }
   ],
   "source": [
    "# 10 Question: Remove all occurrences of a specific element from the list.\n",
    "def remov_ele(l, target):\n",
    "    return [i for i in l if i!=target]\n",
    "\n",
    "remov_ele(l, 6)"
   ]
  },
  {
   "cell_type": "code",
   "execution_count": 142,
   "id": "96ec361c-92a9-4146-a331-692c638061e0",
   "metadata": {},
   "outputs": [
    {
     "data": {
      "text/plain": [
       "[1, 4, 2]"
      ]
     },
     "execution_count": 142,
     "metadata": {},
     "output_type": "execute_result"
    }
   ],
   "source": [
    "# 11 Question: Find the common elements between two lists.\n",
    "l1 = [1, 6, 4, 9, 2]\n",
    "l2 = [3, 5, 4, 1, 2]\n",
    "def common_ele(l1,l2):\n",
    "    return [i for i in l1 if i in l2]\n",
    "\n",
    "common_ele(l1,l2)"
   ]
  },
  {
   "cell_type": "code",
   "execution_count": 148,
   "id": "b4383b61-6b5b-4f0f-93fd-82b27886bd7d",
   "metadata": {},
   "outputs": [
    {
     "data": {
      "text/plain": [
       "False"
      ]
     },
     "execution_count": 148,
     "metadata": {},
     "output_type": "execute_result"
    }
   ],
   "source": [
    "# 12 Question: Check if a list is a palindrome (reads the same forward and backward).\n",
    "l = [1,2,4]\n",
    "def check_palindrome(l):\n",
    "    return True if l ==l[::-1] else False\n",
    "check_palindrome(l)"
   ]
  },
  {
   "cell_type": "code",
   "execution_count": 160,
   "id": "7e717b11-603c-43a1-976a-33840d2e765b",
   "metadata": {},
   "outputs": [
    {
     "data": {
      "text/plain": [
       "[1, 2, 3, 4, 5, 6]"
      ]
     },
     "execution_count": 160,
     "metadata": {},
     "output_type": "execute_result"
    }
   ],
   "source": [
    "# 13 Question: Flatten a list of lists into a single list.\n",
    "l = [1,[2,[3,4],5],6]\n",
    "flatten_list  = []\n",
    "def flat_list(l):\n",
    "    for i in l:\n",
    "        if isinstance(i,list):\n",
    "            flat_list(i)\n",
    "        else:\n",
    "            flatten_list.append(i)\n",
    "    return flatten_list\n",
    "\n",
    "flat_list(l)"
   ]
  },
  {
   "cell_type": "code",
   "execution_count": 166,
   "id": "da5542ce-e059-4287-a649-9048a00a84bd",
   "metadata": {},
   "outputs": [
    {
     "data": {
      "text/plain": [
       "24"
      ]
     },
     "execution_count": 166,
     "metadata": {},
     "output_type": "execute_result"
    }
   ],
   "source": [
    "# 14 Question: Calculate the product of all elements in the list.\n",
    "l =[1, 2, 3, 4]\n",
    "def product_list(l):\n",
    "    temp = 1\n",
    "    for i in l:\n",
    "        temp= temp*i\n",
    "    return temp\n",
    "product_list(l)"
   ]
  },
  {
   "cell_type": "code",
   "execution_count": 170,
   "id": "3064bebd-ce7a-4512-8e48-dcf52de95951",
   "metadata": {},
   "outputs": [
    {
     "data": {
      "text/plain": [
       "[2, 3, 4, 5]"
      ]
     },
     "execution_count": 170,
     "metadata": {},
     "output_type": "execute_result"
    }
   ],
   "source": [
    "# 15 Question: Remove the first and last elements from a list.\n",
    "l = [1, 2, 3, 4, 5, 6]\n",
    "def remov_ele(l):\n",
    "    return l[1:-1]\n",
    "remov_ele(l)"
   ]
  },
  {
   "cell_type": "code",
   "execution_count": 190,
   "id": "0984d609-3a66-4ebf-9c79-02853e5cfdbb",
   "metadata": {},
   "outputs": [
    {
     "data": {
      "text/plain": [
       "[9, 6]"
      ]
     },
     "execution_count": 190,
     "metadata": {},
     "output_type": "execute_result"
    }
   ],
   "source": [
    "# 16 Question: Find the difference between two lists.\n",
    "l1 = [1, 6, 4, 9, 2]\n",
    "l2 = [3, 5, 4, 1, 2]\n",
    "def list_diff(l1,l2):\n",
    "    return list(set(l1) -set(l2))\n",
    "\n",
    "list_diff(l1,l2)"
   ]
  },
  {
   "cell_type": "code",
   "execution_count": 198,
   "id": "17eab926-117b-4006-b6dd-c9c2c0a8eeb2",
   "metadata": {},
   "outputs": [
    {
     "data": {
      "text/plain": [
       "[1, 2, 3, 4, 5, 6, 9]"
      ]
     },
     "execution_count": 198,
     "metadata": {},
     "output_type": "execute_result"
    }
   ],
   "source": [
    "# 17 Question: Merge two lists and sort them in ascending order.\n",
    "def merg_list(l1,l2):\n",
    "    l3 = list(set(l1 +l2))\n",
    "    l3.sort()\n",
    "    return l3\n",
    "merg_list(l1,l2)"
   ]
  },
  {
   "cell_type": "code",
   "execution_count": 1,
   "id": "61520137-35f3-4555-9895-7a28d3ff80de",
   "metadata": {},
   "outputs": [
    {
     "ename": "TypeError",
     "evalue": "object of type 'int' has no len()",
     "output_type": "error",
     "traceback": [
      "\u001b[1;31m---------------------------------------------------------------------------\u001b[0m",
      "\u001b[1;31mTypeError\u001b[0m                                 Traceback (most recent call last)",
      "Cell \u001b[1;32mIn[1], line 7\u001b[0m\n\u001b[0;32m      4\u001b[0m \u001b[38;5;28;01mdef\u001b[39;00m \u001b[38;5;21mlongest_sublist\u001b[39m(lists):\n\u001b[0;32m      5\u001b[0m     \u001b[38;5;28;01mreturn\u001b[39;00m \u001b[38;5;28mmax\u001b[39m(lists, key\u001b[38;5;241m=\u001b[39m\u001b[38;5;28mlen\u001b[39m)\n\u001b[1;32m----> 7\u001b[0m \u001b[43mlongest_sublist\u001b[49m\u001b[43m(\u001b[49m\u001b[43ml\u001b[49m\u001b[43m)\u001b[49m\n",
      "Cell \u001b[1;32mIn[1], line 5\u001b[0m, in \u001b[0;36mlongest_sublist\u001b[1;34m(lists)\u001b[0m\n\u001b[0;32m      4\u001b[0m \u001b[38;5;28;01mdef\u001b[39;00m \u001b[38;5;21mlongest_sublist\u001b[39m(lists):\n\u001b[1;32m----> 5\u001b[0m     \u001b[38;5;28;01mreturn\u001b[39;00m \u001b[38;5;28;43mmax\u001b[39;49m\u001b[43m(\u001b[49m\u001b[43mlists\u001b[49m\u001b[43m,\u001b[49m\u001b[43m \u001b[49m\u001b[43mkey\u001b[49m\u001b[38;5;241;43m=\u001b[39;49m\u001b[38;5;28;43mlen\u001b[39;49m\u001b[43m)\u001b[49m\n",
      "\u001b[1;31mTypeError\u001b[0m: object of type 'int' has no len()"
     ]
    }
   ],
   "source": [
    "# 18 Question: Find the longest sublist in a list of lists.\n",
    "\n",
    "l = [[1,2],[2,[3,4],5],6]\n",
    "def longest_sublist(lists):\n",
    "    return max(lists, key=len)\n",
    "\n",
    "longest_sublist(l)"
   ]
  },
  {
   "cell_type": "code",
   "execution_count": 225,
   "id": "461a2ae1-1fdf-4683-a1c8-d998e839aac0",
   "metadata": {},
   "outputs": [
    {
     "data": {
      "text/plain": [
       "[[1, 2], [3, 4], [5, 6], [9, 8]]"
      ]
     },
     "execution_count": 225,
     "metadata": {},
     "output_type": "execute_result"
    }
   ],
   "source": [
    "# 19 Question: Split a list into chunks of a given size.\n",
    "l = [1, 2, 3, 4, 5, 6, 9, 8]\n",
    "chunks = 2\n",
    "l1 = []\n",
    "for i in range(0,len(l),2):\n",
    "    l1.append(l[i:i+2])\n",
    "l1"
   ]
  },
  {
   "cell_type": "code",
   "execution_count": 241,
   "id": "12e39481-260c-48bd-89d2-f48e1d5054d8",
   "metadata": {},
   "outputs": [
    {
     "name": "stdout",
     "output_type": "stream",
     "text": [
      "there are 4 even number and 3 odd number\n"
     ]
    }
   ],
   "source": [
    "# 20 Question: Count the number of odd and even numbers in a list.\n",
    "l = [1, 2, 3, 4, 6, 9, 8]\n",
    "even_cnt = 0\n",
    "odd_cnt = 0\n",
    "def odd_even_cnt(l):\n",
    "    even_cnt = 0\n",
    "    odd_cnt = 0\n",
    "    for i in l:\n",
    "        if i%2==0:\n",
    "            even_cnt+=1\n",
    "        else:\n",
    "            odd_cnt+=1\n",
    "    return print(f\"there are {even_cnt} even number and {odd_cnt} odd number\")\n",
    "odd_even_cnt(l)"
   ]
  },
  {
   "cell_type": "code",
   "execution_count": 243,
   "id": "5cc6551d-bf40-45ac-9eee-82535955b624",
   "metadata": {},
   "outputs": [
    {
     "data": {
      "text/plain": [
       "(3, 4)"
      ]
     },
     "execution_count": 243,
     "metadata": {},
     "output_type": "execute_result"
    }
   ],
   "source": [
    "def count_odd_even(nums):\n",
    "    odd_count = len([num for num in nums if num % 2 != 0])\n",
    "    even_count = len(nums) - odd_count\n",
    "    return odd_count, even_count\n",
    "count_odd_even(l)"
   ]
  },
  {
   "cell_type": "code",
   "execution_count": 247,
   "id": "5d85502c-b4a9-42a8-a066-445d502f580b",
   "metadata": {},
   "outputs": [
    {
     "name": "stdout",
     "output_type": "stream",
     "text": [
      "the last value is 8 and its index position is 6\n"
     ]
    }
   ],
   "source": [
    "# 21 Question: Find the index of the last occurrence of an element in a list.\n",
    "def find_index(l):\n",
    "    last_value  = l[-1]\n",
    "    index_value = l.index(last_value)\n",
    "    return print(f\"the last value is {last_value} and its index position is {index_value}\")\n",
    "find_index(l)"
   ]
  },
  {
   "cell_type": "code",
   "execution_count": 249,
   "id": "bcd01d51-b0cc-4991-8820-45a1fceb0118",
   "metadata": {},
   "outputs": [
    {
     "data": {
      "text/plain": [
       "6"
      ]
     },
     "execution_count": 249,
     "metadata": {},
     "output_type": "execute_result"
    }
   ],
   "source": [
    "def find_last_index(nums, target):\n",
    "    return len(nums) - 1 - nums[::-1].index(target)\n",
    "\n",
    "find_last_index(l, 8)"
   ]
  },
  {
   "cell_type": "code",
   "execution_count": 267,
   "id": "db0bfc3a-984d-405e-9fae-fb74e7fb6ec0",
   "metadata": {},
   "outputs": [
    {
     "data": {
      "text/plain": [
       "([4, 6, 9, 8, 1, 2, 3], 3)"
      ]
     },
     "execution_count": 267,
     "metadata": {},
     "output_type": "execute_result"
    }
   ],
   "source": [
    "# 22 Question: Rotate a list to the left by a given number of positions.\n",
    "\n",
    "def rotate_left(nums, positions):\n",
    "    #positions %= len(nums)\n",
    "    return nums[positions:] + nums[:positions], positions\n",
    "\n",
    "rotate_left(l, 3)"
   ]
  },
  {
   "cell_type": "code",
   "execution_count": 263,
   "id": "5fb1df8d-d9c2-4ddc-b980-93029daf4c1a",
   "metadata": {},
   "outputs": [
    {
     "data": {
      "text/plain": [
       "[1, 2, 3, 4, 6, 9, 8]"
      ]
     },
     "execution_count": 263,
     "metadata": {},
     "output_type": "execute_result"
    }
   ],
   "source": [
    "l"
   ]
  },
  {
   "cell_type": "code",
   "execution_count": null,
   "id": "7c8b3d85-b910-495c-bc9d-ae1ce4b3ffad",
   "metadata": {},
   "outputs": [],
   "source": []
  },
  {
   "cell_type": "code",
   "execution_count": null,
   "id": "d56a7002-9af4-494e-b0e2-adb8504daa1d",
   "metadata": {},
   "outputs": [],
   "source": []
  },
  {
   "cell_type": "code",
   "execution_count": null,
   "id": "f0df23a5-bccd-4b9d-b8ba-7fbcd97d7177",
   "metadata": {},
   "outputs": [],
   "source": []
  },
  {
   "cell_type": "code",
   "execution_count": null,
   "id": "f0ef33c1-8126-47d2-b268-88bd3f3e4b14",
   "metadata": {},
   "outputs": [],
   "source": []
  },
  {
   "cell_type": "code",
   "execution_count": null,
   "id": "2ddc9f33-4aad-4dd0-a065-afdb73572c0d",
   "metadata": {},
   "outputs": [],
   "source": []
  },
  {
   "cell_type": "code",
   "execution_count": null,
   "id": "36cb92d4-4f87-4804-a242-33cb21b62484",
   "metadata": {},
   "outputs": [],
   "source": []
  },
  {
   "cell_type": "code",
   "execution_count": null,
   "id": "40a654c2-763e-45eb-b1ba-eacd572b2c9f",
   "metadata": {},
   "outputs": [],
   "source": []
  },
  {
   "cell_type": "code",
   "execution_count": 3,
   "id": "eb584cb5",
   "metadata": {},
   "outputs": [
    {
     "name": "stdout",
     "output_type": "stream",
     "text": [
      "[1, 2, 3, 4, 0]\n",
      "False\n"
     ]
    }
   ],
   "source": [
    "def compare(a,b):\n",
    "    if a==b:\n",
    "        return True\n",
    "    else:\n",
    "        return False\n",
    "    \n",
    "def remov_extr(a):\n",
    "    for i in a:\n",
    "        if i not in b:\n",
    "            b.append(i)\n",
    "            a.remove(i)\n",
    "    print(b)\n",
    "a =[1,1,2,2,3,4,4,3,0,0]\n",
    "b =[]\n",
    "remov_extr(a)\n",
    "print(compare(a,b))"
   ]
  },
  {
   "cell_type": "code",
   "execution_count": null,
   "id": "f5549d92-3ee3-48e1-83ad-d83032099ac0",
   "metadata": {},
   "outputs": [],
   "source": []
  },
  {
   "cell_type": "code",
   "execution_count": null,
   "id": "b17dff11-8ddc-45fb-aa8e-0762e48629ec",
   "metadata": {},
   "outputs": [],
   "source": []
  },
  {
   "cell_type": "code",
   "execution_count": 4,
   "id": "994d867c",
   "metadata": {},
   "outputs": [
    {
     "name": "stdout",
     "output_type": "stream",
     "text": [
      "[(2, 'words', 0), (6, 'Hacker', 1), (10, 'Earth', 2), (13, 'Hi', '0'), (15, '0', '0')]\n"
     ]
    }
   ],
   "source": [
    "from itertools import zip_longest\n",
    "n = [2,6,10,13,15]\n",
    "m = ['words','Hacker','Earth','Hi']\n",
    "l =range(3)\n",
    "results = zip_longest(n,m,l,fillvalue = '0')\n",
    "print(list(results))"
   ]
  },
  {
   "cell_type": "code",
   "execution_count": 10,
   "id": "b481c782",
   "metadata": {},
   "outputs": [],
   "source": [
    "import time\n",
    "t = '21/01/2017'\n",
    "dat = time.strptime(t,\"%d/%m/%Y\")"
   ]
  },
  {
   "cell_type": "code",
   "execution_count": 11,
   "id": "4887ab20",
   "metadata": {},
   "outputs": [
    {
     "data": {
      "text/plain": [
       "time.struct_time(tm_year=2017, tm_mon=1, tm_mday=21, tm_hour=0, tm_min=0, tm_sec=0, tm_wday=5, tm_yday=21, tm_isdst=-1)"
      ]
     },
     "execution_count": 11,
     "metadata": {},
     "output_type": "execute_result"
    }
   ],
   "source": [
    "dat"
   ]
  },
  {
   "cell_type": "code",
   "execution_count": null,
   "id": "aea6de18",
   "metadata": {},
   "outputs": [],
   "source": []
  }
 ],
 "metadata": {
  "kernelspec": {
   "display_name": "Python 3 (ipykernel)",
   "language": "python",
   "name": "python3"
  },
  "language_info": {
   "codemirror_mode": {
    "name": "ipython",
    "version": 3
   },
   "file_extension": ".py",
   "mimetype": "text/x-python",
   "name": "python",
   "nbconvert_exporter": "python",
   "pygments_lexer": "ipython3",
   "version": "3.9.19"
  }
 },
 "nbformat": 4,
 "nbformat_minor": 5
}
